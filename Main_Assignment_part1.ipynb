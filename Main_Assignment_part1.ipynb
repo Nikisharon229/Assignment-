{
 "cells": [
  {
   "cell_type": "code",
   "execution_count": 3,
   "id": "eb28f5f3",
   "metadata": {},
   "outputs": [],
   "source": [
    "# Knwolege Test\n",
    "\n",
    "#Q1. Write a function to print the fibonaaci series\n",
    "def fibonacci(n):\n",
    "    n1=0\n",
    "    n2=1\n",
    "    n=eval(input(\"enter the number\"))\n",
    "    fib_list=[]\n",
    "    count=0\n",
    "    while count<n:\n",
    "        r=n1+n2\n",
    "        n1=n2\n",
    "        n2=r\n",
    "        count+=1\n",
    "        fib_list.append(r)\n",
    "        \n",
    "        \n",
    "        \n",
    "            \n",
    "    print(fib_list)\n"
   ]
  },
  {
   "cell_type": "code",
   "execution_count": 5,
   "id": "841afc58",
   "metadata": {},
   "outputs": [
    {
     "name": "stdout",
     "output_type": "stream",
     "text": [
      "enter the number20\n",
      "[1, 2, 3, 5, 8, 13, 21, 34, 55, 89, 144, 233, 377, 610, 987, 1597, 2584, 4181, 6765, 10946]\n"
     ]
    }
   ],
   "source": [
    "fibonacci(20)\n",
    "         "
   ]
  },
  {
   "cell_type": "code",
   "execution_count": 4,
   "id": "fe7d0846",
   "metadata": {},
   "outputs": [
    {
     "name": "stdout",
     "output_type": "stream",
     "text": [
      "enter number153\n",
      "153 is an Amstrong number\n"
     ]
    }
   ],
   "source": [
    "#Q2. What are Armstrong numbers? Write a function if a number is Armstrong number of not\n",
    "#Amstrong number=A number is an Armstrong number if it is equal to the sum of its own digits raised to the number of digits’ power.\n",
    "number=eval(input(\"enter number\"))\n",
    "order=len(str(number))\n",
    "sum=0\n",
    "temp=number\n",
    "while temp>0:\n",
    "    digit=temp%10\n",
    "    sum+=digit**order\n",
    "    temp//=10\n",
    "if number==sum:\n",
    "    print(number,\"is an Amstrong number\")\n",
    "else:\n",
    "    print(number,\"is not an Amstrong number\")\n",
    "\n"
   ]
  },
  {
   "cell_type": "code",
   "execution_count": 5,
   "id": "b81b6833",
   "metadata": {},
   "outputs": [
    {
     "name": "stdout",
     "output_type": "stream",
     "text": [
      "[1, 2, 3]\n",
      "[1, 5, 3, 4]\n"
     ]
    }
   ],
   "source": [
    "#Q3. Difference between list and tuple support your answer with coding example\n",
    "# 1. list of elements are enclosed with square brackets\n",
    "print([1,2,3])\n",
    "#2. list is mutable\n",
    "a=[1,2,3,4]\n",
    "a[1]=5\n",
    "print(a)\n",
    "#3."
   ]
  },
  {
   "cell_type": "code",
   "execution_count": 6,
   "id": "5afaa891",
   "metadata": {},
   "outputs": [
    {
     "name": "stdout",
     "output_type": "stream",
     "text": [
      "1 2 3\n"
     ]
    },
    {
     "ename": "TypeError",
     "evalue": "'tuple' object does not support item assignment",
     "output_type": "error",
     "traceback": [
      "\u001b[1;31m---------------------------------------------------------------------------\u001b[0m",
      "\u001b[1;31mTypeError\u001b[0m                                 Traceback (most recent call last)",
      "\u001b[1;32m<ipython-input-6-4431361b62cc>\u001b[0m in \u001b[0;36m<module>\u001b[1;34m\u001b[0m\n\u001b[0;32m      3\u001b[0m \u001b[1;31m#2.tuple is immutable\u001b[0m\u001b[1;33m\u001b[0m\u001b[1;33m\u001b[0m\u001b[1;33m\u001b[0m\u001b[0m\n\u001b[0;32m      4\u001b[0m \u001b[0mb\u001b[0m\u001b[1;33m=\u001b[0m\u001b[1;33m(\u001b[0m\u001b[1;36m1\u001b[0m\u001b[1;33m,\u001b[0m\u001b[1;36m2\u001b[0m\u001b[1;33m,\u001b[0m\u001b[1;36m3\u001b[0m\u001b[1;33m)\u001b[0m\u001b[1;33m\u001b[0m\u001b[1;33m\u001b[0m\u001b[0m\n\u001b[1;32m----> 5\u001b[1;33m \u001b[0mb\u001b[0m\u001b[1;33m[\u001b[0m\u001b[1;36m1\u001b[0m\u001b[1;33m]\u001b[0m\u001b[1;33m=\u001b[0m\u001b[1;36m4\u001b[0m\u001b[1;33m\u001b[0m\u001b[1;33m\u001b[0m\u001b[0m\n\u001b[0m\u001b[0;32m      6\u001b[0m \u001b[0mprint\u001b[0m\u001b[1;33m(\u001b[0m\u001b[0mb\u001b[0m\u001b[1;33m)\u001b[0m\u001b[1;33m\u001b[0m\u001b[1;33m\u001b[0m\u001b[0m\n",
      "\u001b[1;31mTypeError\u001b[0m: 'tuple' object does not support item assignment"
     ]
    }
   ],
   "source": [
    "# 1.Tuple of elements are enclosed with round brackets\n",
    "print(1,2,3)\n",
    "#2.tuple is immutable\n",
    "b=(1,2,3)\n",
    "b[1]=4\n",
    "print(b)"
   ]
  },
  {
   "cell_type": "code",
   "execution_count": null,
   "id": "56473400",
   "metadata": {},
   "outputs": [],
   "source": [
    "# Q4. What is python doc String\n",
    "1.Python docstring are surrounded with a pair of triple double quotes (“””)just below the class, method or function declaration.\n",
    "2.We can access docstring value from a special attribute __doc__.\n",
    "3.It’s specified in source code that is used, like a comment, to document a specific segment of code.\n"
   ]
  },
  {
   "cell_type": "code",
   "execution_count": null,
   "id": "496af747",
   "metadata": {},
   "outputs": [],
   "source": [
    "#Example\n",
    "def my_func():\n",
    "    '''Docstring are surrounded with a pair of triple double quotes (“””).\n",
    "    just below the class, method or function declaration.'''\n",
    "return None"
   ]
  },
  {
   "cell_type": "code",
   "execution_count": null,
   "id": "087c18b3",
   "metadata": {},
   "outputs": [],
   "source": [
    "# Research Test\n",
    "\n",
    "#Q1. what is PEP 8?\n",
    "PEP- Python Enterprise Proposal\n",
    "* PEP 8 is the document that provides various guidelines to write the readablecode in python. "
   ]
  },
  {
   "cell_type": "code",
   "execution_count": null,
   "id": "1787946b",
   "metadata": {},
   "outputs": [],
   "source": [
    "#Q2. difference between range and xrange\n",
    "range()- returns the list of integers\n",
    "xrange()-returns the generator object.This generator object can be used to return a list of integers by using loop.Only specific range is displayed when needed and hence called lazy evaluation\n"
   ]
  },
  {
   "cell_type": "code",
   "execution_count": 7,
   "id": "aab43957",
   "metadata": {},
   "outputs": [
    {
     "name": "stdout",
     "output_type": "stream",
     "text": [
      "Learnbay\n"
     ]
    }
   ],
   "source": [
    "#Q3. What are global and local varibales support your answer with coding\n",
    "#The global variables are those which are defined outside any function and which are accessible throughout the program i.e. inside and outside of every function\n",
    "x='Learnbay'\n",
    "def my_fnc():\n",
    "    print(x)\n",
    "my_fnc()    "
   ]
  },
  {
   "cell_type": "code",
   "execution_count": 11,
   "id": "4d8c67d4",
   "metadata": {},
   "outputs": [
    {
     "ename": "NameError",
     "evalue": "name 'y' is not defined",
     "output_type": "error",
     "traceback": [
      "\u001b[1;31m---------------------------------------------------------------------------\u001b[0m",
      "\u001b[1;31mNameError\u001b[0m                                 Traceback (most recent call last)",
      "\u001b[1;32m<ipython-input-11-89de3bd5ecfe>\u001b[0m in \u001b[0;36m<module>\u001b[1;34m\u001b[0m\n\u001b[0;32m      7\u001b[0m \u001b[0mfoo\u001b[0m\u001b[1;33m(\u001b[0m\u001b[1;33m)\u001b[0m\u001b[1;33m\u001b[0m\u001b[1;33m\u001b[0m\u001b[0m\n\u001b[0;32m      8\u001b[0m \u001b[1;33m\u001b[0m\u001b[0m\n\u001b[1;32m----> 9\u001b[1;33m \u001b[0mprint\u001b[0m\u001b[1;33m(\u001b[0m\u001b[0my\u001b[0m\u001b[1;33m)\u001b[0m\u001b[1;33m\u001b[0m\u001b[1;33m\u001b[0m\u001b[0m\n\u001b[0m",
      "\u001b[1;31mNameError\u001b[0m: name 'y' is not defined"
     ]
    }
   ],
   "source": [
    "#Local variables are those which are initialized inside a function and belongs only to that particular function. It cannot be accessed anywhere outside the function.\n",
    "\n",
    "def foo():\n",
    "\n",
    "    y = \"local\"\n",
    "\n",
    "foo()\n",
    "\n",
    "print(y)"
   ]
  },
  {
   "cell_type": "code",
   "execution_count": null,
   "id": "05d7d17b",
   "metadata": {},
   "outputs": [],
   "source": [
    "#Q4. Difference between python 2 and python 3\n",
    "1.Python 3 syntax is more straightforward and clear, whereas Python 2 syntax is more harder to grasp.\n",
    "2.Strings are stored in Unicode by default in Python 3, whereas Unicode string values must be defined using \"u\" in Python 2.\n",
    "3.The value of variables in Python 3 never changes, whereas the value of a global variable in Python 2 changes when it is used inside a for-loop.\n",
    "\n",
    "4.Python 3 exceptions should be surrounded by parenthesis, but Python 2 exceptions should be surrounded by notations.\n",
    "\n",
    "5.The rules for ordering comparisons in Python 3 are simpler, but the rules for ordering comparisons in Python 2 are more complicated.\n",
    "\n",
    "6.Iterations in Python 3 are performed with the Range() method, whereas iterations in Python 2 are performed with the xrange() function."
   ]
  },
  {
   "cell_type": "code",
   "execution_count": 13,
   "id": "b2bb72e7",
   "metadata": {},
   "outputs": [],
   "source": [
    "#Q5. What are mirrored palindrome? Write a program to check if a string is mirrored palindrome or not?\n",
    "\n",
    "#A palindrome is a number or letter that remains the same even if the number and letters are inverted.\n",
    "\n",
    "def isPalindrome(string):\n",
    "    if string[::-1]:\n",
    "        print(\"True\")\n",
    "        \n",
    "    \n",
    "    "
   ]
  },
  {
   "cell_type": "code",
   "execution_count": 14,
   "id": "c56bbce2",
   "metadata": {},
   "outputs": [
    {
     "name": "stdout",
     "output_type": "stream",
     "text": [
      "True\n"
     ]
    }
   ],
   "source": [
    "isPalindrome('madam')"
   ]
  }
 ],
 "metadata": {
  "kernelspec": {
   "display_name": "Python 3",
   "language": "python",
   "name": "python3"
  },
  "language_info": {
   "codemirror_mode": {
    "name": "ipython",
    "version": 3
   },
   "file_extension": ".py",
   "mimetype": "text/x-python",
   "name": "python",
   "nbconvert_exporter": "python",
   "pygments_lexer": "ipython3",
   "version": "3.8.8"
  }
 },
 "nbformat": 4,
 "nbformat_minor": 5
}
