{
 "cells": [
  {
   "cell_type": "markdown",
   "id": "3da4485c",
   "metadata": {},
   "source": [
    "Q1. Declare a float value and store it in a variable.\n",
    "Check the type and print the id of the same."
   ]
  },
  {
   "cell_type": "code",
   "execution_count": 2,
   "id": "87da8a36",
   "metadata": {},
   "outputs": [
    {
     "name": "stdout",
     "output_type": "stream",
     "text": [
      "10.5\n",
      "<class 'float'>\n",
      "1945371062640\n"
     ]
    }
   ],
   "source": [
    "a=10.5\n",
    "print(a)\n",
    "print(type(a))\n",
    "print(id(a))"
   ]
  },
  {
   "cell_type": "markdown",
   "id": "5681c544",
   "metadata": {},
   "source": [
    "Q2. Arithmetic Operations on float.<br>\n",
    "Take two different float values.<br>\n",
    "Store them in two different variables.<br>\n",
    "Do below operations on them:-<br>\n",
    " Find sum of both numbers<br>\n",
    " Find difference between them<br>\n",
    " Find the product of both numbers.<br>\n",
    " Find value after dividing first num with second number<br>\n",
    " Find the remainder after dividing first number with second number<br>\n",
    " Find the quotient after dividing first number with second number<br>\n",
    " Find the result of the first num to the power of the second number.<br>"
   ]
  },
  {
   "cell_type": "code",
   "execution_count": 4,
   "id": "c536e519",
   "metadata": {},
   "outputs": [
    {
     "name": "stdout",
     "output_type": "stream",
     "text": [
      "8.5\n",
      "5.5\n",
      "14.0\n",
      "3.0\n",
      "46.75\n",
      "1.5454545454545454\n",
      "3.0\n",
      "1.0\n",
      "129361.21663374006\n"
     ]
    }
   ],
   "source": [
    "A=8.5\n",
    "B=5.5\n",
    "print(A)\n",
    "print(B)\n",
    "print(A+B) # sum of numbers\n",
    "print(A-B) # difference of numbers\n",
    "print(A*B) # Multiplication of numbers\n",
    "print(A/B) # Division\n",
    "print(A%B) # Modulo\n",
    "print(A//B) # floor Division\n",
    "print(A**B) # power"
   ]
  },
  {
   "cell_type": "markdown",
   "id": "336c0663",
   "metadata": {},
   "source": [
    "Q3. Comparison Operators on float<br>\n",
    "Take two different float values.<br>\n",
    "Store them in two different variables.<br>\n",
    "Do below operations on them:-<br><br>\n",
    " Compare these two numbers with below operator:-<br>\n",
    " Greater than, '>'<br>\n",
    " Smaller than, '<'<br>\n",
    " Greater than or equal to, '>='<br>\n",
    " Less than or equal to, '<='<br>\n",
    "Observe their output(return type should be boolean)<br>"
   ]
  },
  {
   "cell_type": "code",
   "execution_count": 6,
   "id": "2df427ad",
   "metadata": {},
   "outputs": [
    {
     "name": "stdout",
     "output_type": "stream",
     "text": [
      "20.7\n",
      "16.8\n",
      "True\n",
      "False\n",
      "True\n",
      "False\n"
     ]
    }
   ],
   "source": [
    "C=20.7\n",
    "D=16.8\n",
    "print(C)\n",
    "print(D)\n",
    "print(C>D) # greater than\n",
    "print(C<D) # lesser than\n",
    "print(C>=D) # Greater than eqaul to\n",
    "print(C<=D) # lesser than equal to\n"
   ]
  },
  {
   "cell_type": "markdown",
   "id": "29dcbd3f",
   "metadata": {},
   "source": [
    "Q4. Equality Operator<br>\n",
    "Take two different float values.<br>\n",
    "Store them in two different variables.<br>\n",
    "Equate them using equality operators (==, !=)<br>\n",
    "Observe the output(return type should be boolean)<br>"
   ]
  },
  {
   "cell_type": "code",
   "execution_count": 8,
   "id": "70ca3132",
   "metadata": {},
   "outputs": [
    {
     "name": "stdout",
     "output_type": "stream",
     "text": [
      "69.46\n",
      "45.78\n",
      "False\n",
      "True\n"
     ]
    }
   ],
   "source": [
    "E=69.46\n",
    "F=45.78\n",
    "print(E)\n",
    "print(F)\n",
    "print(E==F)\n",
    "print(E!=F)"
   ]
  },
  {
   "cell_type": "markdown",
   "id": "7d3cdca7",
   "metadata": {},
   "source": [
    "Q5. Logical operators<br>\n",
    "Observe the output of below code<br>\n",
    "Cross check the output manually<br>\n",
    "print(10.20 and 20.30) #both are true and second value taken<br>\n",
    ">Output is 20.3<br>\n",
    "print(0.0 and 20.30) #First is false so first value<br>\n",
    "taken->Output is 0.0<br>\n",
    "print(20.30 and 0.0) #Goes to till second and second value is<br>\n",
    "false so second is taken>Output is 0.0<br>\n",
    "print(0.0 and 0.0) #First is false so first value is<br><br>\n",
    "taken->Output is 0.0<br>\n",
    "print(10.20 or 20.30) #First is True so first value is<br>\n",
    "taken>Output is 10.2<br>\n",
    "print(0.0 or 20.30) #Goes to till second and second is true<br>\n",
    "second value is taken->Output is 20.3<br>\n",
    "print(20.30 or 0.0) #First is True so first value is<br>\n",
    "taken->Output is 20.3<br>\n",
    "print(0.0 or 0.0) #Goes to till second and second is also<br>\n",
    "false and second value is taken>Output is 0.0<br>\n",
    "print(not 10.20) #-Not of true is false->Output is False<br>\n",
    "print(not 0.0) #Not of false is True>Output is True<br>"
   ]
  },
  {
   "cell_type": "code",
   "execution_count": 10,
   "id": "afd48e3b",
   "metadata": {},
   "outputs": [
    {
     "name": "stdout",
     "output_type": "stream",
     "text": [
      "20.3\n",
      "0.0\n",
      "0.0\n",
      "0.0\n",
      "10.2\n",
      "20.3\n",
      "20.3\n",
      "0.0\n",
      "False\n",
      "True\n"
     ]
    }
   ],
   "source": [
    "print(10.20 and 20.30) \n",
    "print(0.0 and 20.30)\n",
    "print(20.30 and 0.0) \n",
    "print(0.0 and 0.0)\n",
    "print(10.20 or 20.30) \n",
    "print(0.0 or 20.30)\n",
    "print(20.30 or 0.0) \n",
    "print(0.0 or 0.0)\n",
    "print(not 10.20)\n",
    "print(not 0.0)"
   ]
  },
  {
   "cell_type": "markdown",
   "id": "3727c4f0",
   "metadata": {},
   "source": [
    "Q6. What is the output of expression inside print statement. Cross check\n",
    "before running the program.<br>\n",
    "a = 10.20<br>\n",
    "b - 10.20<br>\n",
    "print(a is b) #True or False? True 10.20<256<br>\n",
    "print(a is not b) #True or False? False<br>\n",
    "Why the Id of float values are different when the same value is<br>\n",
    "assigned to two different variables<br>\n",
    "ex: a = 10.5 b=10.5. but id will be same if I assign the variable<br>\n",
    "having float i.e. a=c then both a and c's Id are same<br>"
   ]
  },
  {
   "cell_type": "code",
   "execution_count": 12,
   "id": "468c3625",
   "metadata": {},
   "outputs": [
    {
     "name": "stdout",
     "output_type": "stream",
     "text": [
      "False\n",
      "True\n"
     ]
    }
   ],
   "source": [
    "a=10.20\n",
    "b=10.20\n",
    "print(a is b)\n",
    "print(a is not b)\n",
    "# ans: object reusability concept is not applicable on float numbers"
   ]
  },
  {
   "cell_type": "markdown",
   "id": "e575f6fe",
   "metadata": {},
   "source": [
    "Q7. Bitwise operation is not applicable between instances of float.<br>\n",
    "Why the Id of float values are different when the same value is<br>\n",
    "assigned to two different variables<br>\n",
    "ex: a = 10.5 b=10.5. but id will be same if I assign the variable<br>\n",
    "having float i.e. a=c then both a and c's Id are same<br>\n",
    "Object reusability concept is not applicable on float values<br>"
   ]
  },
  {
   "cell_type": "code",
   "execution_count": 14,
   "id": "03dc2643",
   "metadata": {},
   "outputs": [
    {
     "name": "stdout",
     "output_type": "stream",
     "text": [
      "False\n",
      "True\n"
     ]
    }
   ],
   "source": [
    "a=10.5\n",
    "b=10.5\n",
    "print(a is b)\n",
    "print(a is not b) "
   ]
  },
  {
   "cell_type": "markdown",
   "id": "0bc7d801",
   "metadata": {},
   "source": [
    "Q8. Membership operation<br>\n",
    "in, not in are two membership operators and it returns boolean value<br>\n",
    "print('2.7' in 'Python2.7.8') #True<br>\n",
    "print(10.20 in [10,10.20,10+20j,'Python']) #True<br>\n",
    "print(10.20 in (10,10.20,10+20j,'Python')) # True<br>\n",
    "print(20.30 in {1,20.30,30+40j}) # True<br>\n",
    "print(2.3 in {1:100, 2.3:200, 30+40j:300}) # True<br>\n",
    "print(10 in range(20)) # True<br>"
   ]
  },
  {
   "cell_type": "code",
   "execution_count": 16,
   "id": "a6a35e2a",
   "metadata": {},
   "outputs": [
    {
     "name": "stdout",
     "output_type": "stream",
     "text": [
      "True\n",
      "True\n",
      "True\n",
      "True\n",
      "True\n",
      "True\n"
     ]
    }
   ],
   "source": [
    "print('2.7' in 'Python2.7.8') \n",
    "print(10.20 in [10,10.20,10+20j,'Python']) \n",
    "print(10.20 in (10,10.20,10+20j,'Python')) \n",
    "print(20.30 in {1,20.30,30+40j}) \n",
    "print(2.3 in {1:100, 2.3:200, 30+40j:300}) \n",
    "print(10 in range(20))"
   ]
  },
  {
   "cell_type": "markdown",
   "id": "bfcd1adb",
   "metadata": {},
   "source": []
  }
 ],
 "metadata": {
  "kernelspec": {
   "display_name": "Python 3",
   "language": "python",
   "name": "python3"
  },
  "language_info": {
   "codemirror_mode": {
    "name": "ipython",
    "version": 3
   },
   "file_extension": ".py",
   "mimetype": "text/x-python",
   "name": "python",
   "nbconvert_exporter": "python",
   "pygments_lexer": "ipython3",
   "version": "3.8.8"
  }
 },
 "nbformat": 4,
 "nbformat_minor": 5
}
