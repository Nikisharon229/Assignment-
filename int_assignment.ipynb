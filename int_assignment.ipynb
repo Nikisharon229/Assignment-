{
 "cells": [
  {
   "cell_type": "markdown",
   "id": "d77c6b61",
   "metadata": {},
   "source": [
    " Q1. Declare an int value and store it in a variable.\n",
    " Check the type and print the id of the same."
   ]
  },
  {
   "cell_type": "code",
   "execution_count": 16,
   "id": "de84d8e3",
   "metadata": {
    "scrolled": false
   },
   "outputs": [
    {
     "name": "stdout",
     "output_type": "stream",
     "text": [
      "10\n",
      "<class 'int'>\n",
      "140736711632976\n"
     ]
    }
   ],
   "source": [
    "a=10 \n",
    "print (a)\n",
    "print (type(a))\n",
    "print (id(a))"
   ]
  },
  {
   "cell_type": "markdown",
   "id": "c34dba46",
   "metadata": {},
   "source": [
    " Q2. Take one int value between 0 - 256.\n",
    " Assign it to two different variables.\n",
    "Check the id of both the variables. It should come the same. Check why?\n"
   ]
  },
  {
   "cell_type": "code",
   "execution_count": 1,
   "id": "5fbe80f7",
   "metadata": {},
   "outputs": [
    {
     "name": "stdout",
     "output_type": "stream",
     "text": [
      "22\n",
      "22\n",
      "140703664777680\n",
      "140703664777680\n",
      "True\n"
     ]
    }
   ],
   "source": [
    "X=22\n",
    "Y=22\n",
    "print (X)\n",
    "print (Y)\n",
    "print (id(X))\n",
    "print (id(Y))\n",
    "print(X is Y)"
   ]
  },
  {
   "cell_type": "markdown",
   "id": "5a95ffee",
   "metadata": {},
   "source": [
    "Q3. Take one int value either less than -5 or greater than 256\n",
    "Assign it to two different variables.\n",
    "Check the id of both the variables. It should come different.Check why?"
   ]
  },
  {
   "cell_type": "code",
   "execution_count": 2,
   "id": "c7e4ec73",
   "metadata": {},
   "outputs": [
    {
     "name": "stdout",
     "output_type": "stream",
     "text": [
      "1024\n",
      "2934280855920\n",
      "2934280856112\n",
      "False\n"
     ]
    }
   ],
   "source": [
    "A= 1024\n",
    "B= 1024\n",
    "print (A)\n",
    "print (id(A))\n",
    "print (id(B))\n",
    "print(A is B)"
   ]
  },
  {
   "cell_type": "markdown",
   "id": "7b9657a0",
   "metadata": {},
   "source": [
    "Q4. Arithmetic Operations on integers\n",
    "Take two different integer values.\n",
    "Store them in two different variables.\n",
    "Do below operations on them:-\n",
    " Find sum of both numbers\n",
    " Find difference between them\n",
    " Find the product of both numbers.\n",
    " Find value after dividing first num with second number\n",
    " Find the remainder after dividing first number with second number\n",
    " Find the quotient after dividing first number with second number\n",
    " Find the result of the first num to the power of the second number."
   ]
  },
  {
   "cell_type": "code",
   "execution_count": 21,
   "id": "bec5338e",
   "metadata": {},
   "outputs": [
    {
     "name": "stdout",
     "output_type": "stream",
     "text": [
      "80\n",
      "20\n",
      "1500\n",
      "1.6666666666666667\n",
      "20\n",
      "1\n",
      "931322574615478515625000000000000000000000000000000\n"
     ]
    }
   ],
   "source": [
    "N = 50\n",
    "B = 30\n",
    "print (N+B)\n",
    "print (N-B)\n",
    "print (N*B)\n",
    "print (N/B)\n",
    "print (N%B)\n",
    "print (N//B)\n",
    "print (N**B)"
   ]
  },
  {
   "cell_type": "markdown",
   "id": "45ad3158",
   "metadata": {},
   "source": [
    "Q5.Comparison Operators on integers\n",
    "Take two different integer values.\n",
    "Store them in two different variables.\n",
    "Do below operations on them:-\n",
    " Compare se two numbers with below operator:-\n",
    " Greater than, '>'\n",
    " Smaller than, '<'\n",
    " Greater than or equal to, '>='\n",
    " Less than or equal to, '<='\n",
    "Observe their output(return type should be boolean)"
   ]
  },
  {
   "cell_type": "code",
   "execution_count": 23,
   "id": "0227ac4c",
   "metadata": {},
   "outputs": [
    {
     "name": "stdout",
     "output_type": "stream",
     "text": [
      "False\n",
      "True\n",
      "False\n",
      "True\n"
     ]
    }
   ],
   "source": [
    "T = 5\n",
    "S = 8\n",
    "print (T>S)\n",
    "print (T<S)\n",
    "print (T>=S)\n",
    "print (T<=S)\n"
   ]
  },
  {
   "cell_type": "code",
   "execution_count": null,
   "id": "e7e49bc4",
   "metadata": {},
   "outputs": [],
   "source": [
    "Q6.Equality Operator\n",
    "Take two different integer values.\n",
    "Store them in two different variables.\n",
    "Equate them using equality operators (==, !=)\n",
    "Observe the output(return type should be boolean)\n"
   ]
  },
  {
   "cell_type": "code",
   "execution_count": 24,
   "id": "ff7aebca",
   "metadata": {},
   "outputs": [
    {
     "name": "stdout",
     "output_type": "stream",
     "text": [
      "False\n",
      "True\n"
     ]
    }
   ],
   "source": [
    "W = 55\n",
    "Z = 40\n",
    "print (W==Z)\n",
    "print (W!=Z)"
   ]
  },
  {
   "cell_type": "markdown",
   "id": "4d558d64",
   "metadata": {},
   "source": [
    "Q7. Logical operators\n",
    "Observe the output of below code\n",
    "Cross check the output manually\n",
    "print(10 and 20)\n",
    "#----------------------------------------->Output is 20\n",
    "print(0 and 20)\n",
    "#----------------------------------------->Output is 0\n",
    "print(20 and 0)\n",
    "#----------------------------------------->Output is 0\n",
    "print(0 and 0)\n",
    "#----------------------------------------->Output is 0\n",
    "print(10 or 20)\n",
    "#----------------------------------------->Output is 10\n",
    "print(0 or 20)\n",
    "#----------------------------------------->Output is 20\n",
    "print(20 or 0)\n",
    "#----------------------------------------->Output is 20\n",
    "print(0 or 0)\n",
    "#----------------------------------------->Output is 0\n",
    "print(not 10)\n",
    "#----------------------------------------->Output is False\n",
    "print(not 0)\n",
    "#----------------------------------------->Output is True"
   ]
  },
  {
   "cell_type": "code",
   "execution_count": 27,
   "id": "6f5c7f18",
   "metadata": {},
   "outputs": [
    {
     "name": "stdout",
     "output_type": "stream",
     "text": [
      "20\n",
      "0\n",
      "0\n",
      "0\n",
      "10\n",
      "20\n",
      "20\n",
      "0\n",
      "False\n",
      "True\n"
     ]
    }
   ],
   "source": [
    "c=10\n",
    "d=20\n",
    "print(10 and 20)\n",
    "print(0 and 20)\n",
    "print(20 and 0)\n",
    "print(0 and 0)\n",
    "print(10 or 20)\n",
    "print(0 or 20)\n",
    "print(20 or 0)\n",
    "print(0 or 0)\n",
    "print(not 10)\n",
    "print(not 0)"
   ]
  },
  {
   "cell_type": "markdown",
   "id": "339b8b68",
   "metadata": {},
   "source": [
    "Q8. Bitwise Operators\n",
    "Do below operations on the values provided below:-\n",
    " Bitwise and(&) -----------------------------------------> 10, 20\n",
    "-------> Output is 0\n",
    " Bitwise or(|) -----------------------------------------> 10, 20\n",
    "-------> Output is 30\n",
    " Bitwise(^) -----------------------------------------> 10, 20\n",
    "-------> Output is 30\n",
    " Bitwise negation(~) ------------------------------------> 10\n",
    "-------> Output is -11\n",
    " Bitwise left shift ------------------------------------> 10,2\n",
    "-------> Output is 40\n",
    " Bitwise right shift ------------------------------------> 10,2\n",
    "-------> Output is 2\n",
    "Cross check the output manually\n"
   ]
  },
  {
   "cell_type": "code",
   "execution_count": 29,
   "id": "9aad93b1",
   "metadata": {},
   "outputs": [
    {
     "name": "stdout",
     "output_type": "stream",
     "text": [
      "0\n",
      "30\n",
      "30\n",
      "-11\n",
      "40\n",
      "2\n"
     ]
    }
   ],
   "source": [
    "g=10\n",
    "k=20\n",
    "print(10&20)\n",
    "print(10|20)\n",
    "print(10^20)\n",
    "print(~10)\n",
    "print(10<<2) # (A*(2**n))\n",
    "print(10>>2) # (A//(2**n))\n"
   ]
  },
  {
   "cell_type": "markdown",
   "id": "724f6fd3",
   "metadata": {},
   "source": [
    "Q9. What is the output of expression inside print statement. Cross check\n",
    "before running the program.\n",
    "a = 10\n",
    "b = 10\n",
    "print(a is b) #True or False?\n",
    "print(a is not b) #True or False?\n",
    "a = 1000\n",
    "b = 1000\n",
    "print(a is b) #True or False?\n",
    "print(a is not b) #True or False?\n"
   ]
  },
  {
   "cell_type": "code",
   "execution_count": 31,
   "id": "e27b7f09",
   "metadata": {},
   "outputs": [
    {
     "name": "stdout",
     "output_type": "stream",
     "text": [
      "True\n",
      "False\n"
     ]
    }
   ],
   "source": [
    "a=10\n",
    "b=10\n",
    "print(a is b)\n",
    "print(a is not b)\n"
   ]
  },
  {
   "cell_type": "code",
   "execution_count": 32,
   "id": "678607c6",
   "metadata": {},
   "outputs": [
    {
     "name": "stdout",
     "output_type": "stream",
     "text": [
      "False\n",
      "True\n"
     ]
    }
   ],
   "source": [
    "a=1000\n",
    "b=1000\n",
    "print(a is b)\n",
    "print(a is not b)"
   ]
  },
  {
   "cell_type": "markdown",
   "id": "8bf6dce9",
   "metadata": {},
   "source": [
    "Q10. What is the output of expression inside print statement. Cross check\n",
    "before running the program.\n",
    "print(10+(10*32)//2**5&20+(~(-10))<<2"
   ]
  },
  {
   "cell_type": "code",
   "execution_count": 37,
   "id": "8c002fcd",
   "metadata": {},
   "outputs": [
    {
     "name": "stdout",
     "output_type": "stream",
     "text": [
      "20\n"
     ]
    }
   ],
   "source": [
    "print(10+(10*32)//2**5&20+(~(-10))<<2)"
   ]
  },
  {
   "cell_type": "markdown",
   "id": "caaa768a",
   "metadata": {},
   "source": [
    "Q11. Membership operation\n",
    "in, not in are two membership operators and it returns boolean value\n"
   ]
  },
  {
   "cell_type": "code",
   "execution_count": 8,
   "id": "b13bab86",
   "metadata": {},
   "outputs": [
    {
     "name": "stdout",
     "output_type": "stream",
     "text": [
      "True\n",
      "True\n",
      "True\n",
      "True\n",
      "True\n",
      "True\n"
     ]
    }
   ],
   "source": [
    "print('2' in 'Python2.7.8')\n",
    "print(10 in [10,10.20,10+20j,'Python'])\n",
    "print(10 in (10,10.20,10+20j,'Python'))\n",
    "print(2 in {1,2,3})\n",
    "print(3 in {1:100, 2:200, 3:300})\n",
    "print(10 in range(20))"
   ]
  },
  {
   "cell_type": "markdown",
   "id": "c3ec9ca0",
   "metadata": {},
   "source": [
    "Q12. An integer can be represented in binary, octal or hexadecimal form.\n",
    "Declare one binary, one octal and one hexadecimal value and store them\n",
    "in three different variables.\n",
    "Convert 9876 to its binary, octal and hexadecimal equivalent and print\n",
    "their corresponding value."
   ]
  },
  {
   "cell_type": "code",
   "execution_count": 9,
   "id": "36a6d1c9",
   "metadata": {},
   "outputs": [
    {
     "name": "stdout",
     "output_type": "stream",
     "text": [
      "0b10011010010100\n",
      "0o23224\n",
      "0x2694\n"
     ]
    }
   ],
   "source": [
    "a= 0b1010000 # binary\n",
    "b= 0o175336 # octal\n",
    "c= 0xfade # hexadecimal\n",
    "d= 9876\n",
    "print(bin(d))\n",
    "print(oct(d))\n",
    "print(hex(d))"
   ]
  },
  {
   "cell_type": "markdown",
   "id": "5d5dca33",
   "metadata": {},
   "source": [
    "Q13. What will be the output of following:-"
   ]
  },
  {
   "cell_type": "code",
   "execution_count": 4,
   "id": "29760231",
   "metadata": {},
   "outputs": [
    {
     "name": "stdout",
     "output_type": "stream",
     "text": [
      "80\n"
     ]
    }
   ],
   "source": [
    "a = 0b1010000 # binary representation\n",
    "print(a)"
   ]
  },
  {
   "cell_type": "code",
   "execution_count": 5,
   "id": "0e40cbd1",
   "metadata": {},
   "outputs": [
    {
     "name": "stdout",
     "output_type": "stream",
     "text": [
      "3870\n"
     ]
    }
   ],
   "source": [
    "b = 0o7436 # octal representation\n",
    "print(b)"
   ]
  },
  {
   "cell_type": "code",
   "execution_count": 6,
   "id": "9ffd10a2",
   "metadata": {},
   "outputs": [
    {
     "name": "stdout",
     "output_type": "stream",
     "text": [
      "64222\n"
     ]
    }
   ],
   "source": [
    "c = 0xfade # hexadecimal representation\n",
    "print(c)\n"
   ]
  },
  {
   "cell_type": "code",
   "execution_count": 7,
   "id": "dd73e864",
   "metadata": {},
   "outputs": [
    {
     "name": "stdout",
     "output_type": "stream",
     "text": [
      "0b1010000\n",
      "0o7436\n",
      "0xfade\n",
      "0b1010000\n",
      "0b1111101011011110\n",
      "0o175336\n",
      "0o7436\n",
      "0x50\n",
      "0xfade\n"
     ]
    }
   ],
   "source": [
    "print(bin(80))\n",
    "print(oct(3870))\n",
    "print(hex(64222))\n",
    "print(bin(0b1010000))\n",
    "print(bin(0xfade))\n",
    "print(oct(0xfade))\n",
    "print(oct(0o7436))\n",
    "print(hex(0b1010000))\n",
    "print(hex(0xfade))"
   ]
  }
 ],
 "metadata": {
  "kernelspec": {
   "display_name": "Python 3",
   "language": "python",
   "name": "python3"
  },
  "language_info": {
   "codemirror_mode": {
    "name": "ipython",
    "version": 3
   },
   "file_extension": ".py",
   "mimetype": "text/x-python",
   "name": "python",
   "nbconvert_exporter": "python",
   "pygments_lexer": "ipython3",
   "version": "3.8.8"
  }
 },
 "nbformat": 4,
 "nbformat_minor": 5
}
