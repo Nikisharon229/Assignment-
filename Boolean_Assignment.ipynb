{
 "cells": [
  {
   "cell_type": "markdown",
   "id": "7da55cf5",
   "metadata": {},
   "source": [
    "Q1. Declare a boolean value and store it in a variable.\n",
    "Check the type and print the id of the same.\n"
   ]
  },
  {
   "cell_type": "code",
   "execution_count": 2,
   "id": "324f1fcc",
   "metadata": {},
   "outputs": [
    {
     "name": "stdout",
     "output_type": "stream",
     "text": [
      "True\n",
      "False\n",
      "<class 'bool'>\n",
      "<class 'bool'>\n",
      "140737085167440\n",
      "140737085167472\n"
     ]
    }
   ],
   "source": [
    "a=True\n",
    "b=False\n",
    "print(a)\n",
    "print(b)\n",
    "print(type(a))\n",
    "print(type(b))\n",
    "print(id(a))\n",
    "print(id(b))"
   ]
  },
  {
   "cell_type": "markdown",
   "id": "843852b7",
   "metadata": {},
   "source": [
    "Q2. Take one boolean value between 0 - 256.<br>\n",
    "Assign it to two different variables.<br>\n",
    "Check the id of both the variables. It should come the same. Check why?<br>"
   ]
  },
  {
   "cell_type": "code",
   "execution_count": 8,
   "id": "348bd7df",
   "metadata": {},
   "outputs": [
    {
     "name": "stdout",
     "output_type": "stream",
     "text": [
      "140737085450032\n",
      "140737085450032\n"
     ]
    }
   ],
   "source": [
    "a=1\n",
    "b=1\n",
    "print(id(a))\n",
    "print(id(b)) #object reusability cocept"
   ]
  },
  {
   "cell_type": "markdown",
   "id": "ef112f94",
   "metadata": {},
   "source": [
    "Q3. Arithmetic Operations on boolean data<br>\n",
    "Take two different boolean values.<br>\n",
    "Store them in two different variables.<br>\n",
    "Do below operations on them:-<br>\n",
    " Find sum of both values<br>\n",
    " Find difference between them<br><br>\n",
    " Find the product of both.<br>\n",
    " Find value after dividing first value with second value<br>\n",
    " Find the remainder after dividing first value with second value<br>\n",
    " Find the quotient after dividing first value with second value<br>\n",
    " Find the result of first value to the power of second value.<br>"
   ]
  },
  {
   "cell_type": "code",
   "execution_count": 10,
   "id": "51d20d87",
   "metadata": {},
   "outputs": [
    {
     "name": "stdout",
     "output_type": "stream",
     "text": [
      "1\n",
      "1\n",
      "0\n"
     ]
    }
   ],
   "source": [
    "a=True\n",
    "b=False\n",
    "print(a+b) # sum\n",
    "print(a-b) # subtraction\n",
    "print(a*b) # multiplication\n",
    "\n"
   ]
  },
  {
   "cell_type": "code",
   "execution_count": 12,
   "id": "93dfc0e2",
   "metadata": {},
   "outputs": [
    {
     "name": "stdout",
     "output_type": "stream",
     "text": [
      "0\n",
      "0.0\n",
      "0\n"
     ]
    }
   ],
   "source": [
    "a=False\n",
    "b=True\n",
    "print(a%b) # modulo\n",
    "print(a/b) # division\n",
    "print(a//b) # floor division"
   ]
  },
  {
   "cell_type": "markdown",
   "id": "01454301",
   "metadata": {},
   "source": [
    "Q4. Comparison Operators on boolean values<br>\n",
    "Take two different boolean values.<br>\n",
    "Store them in two different variables.<br>\n",
    "Do below operations on them:-<br>\n",
    " Compare these two values with below operator:-<br>\n",
    " Greater than, '>'<br>\n",
    " less than, '<'<br>\n",
    " Greater than or equal to, '>='<br>\n",
    " Less than or equal to, '<='<br>\n",
    "Observe their output(return type should be boolean)<br>"
   ]
  },
  {
   "cell_type": "code",
   "execution_count": 13,
   "id": "f06f6d37",
   "metadata": {},
   "outputs": [
    {
     "name": "stdout",
     "output_type": "stream",
     "text": [
      "True\n",
      "False\n",
      "True\n",
      "False\n"
     ]
    }
   ],
   "source": [
    "a=True\n",
    "b=False\n",
    "print(a>b)\n",
    "print(a<b)\n",
    "print(a>=b)\n",
    "print(a<=b)"
   ]
  },
  {
   "cell_type": "markdown",
   "id": "c9aeaaf4",
   "metadata": {},
   "source": [
    "Q5. Equality Operator<br>\n",
    "Take two different boolean values.<br>\n",
    "Store them in two different variables.<br>\n",
    "Equate them using equality operators (==, !=)<br>\n",
    "Observe the output(return type should be boolean)<br>\n"
   ]
  },
  {
   "cell_type": "code",
   "execution_count": 14,
   "id": "3d587020",
   "metadata": {},
   "outputs": [
    {
     "name": "stdout",
     "output_type": "stream",
     "text": [
      "False\n",
      "True\n"
     ]
    }
   ],
   "source": [
    "a=True\n",
    "b=False\n",
    "print(a==b)\n",
    "print(a!=b)"
   ]
  },
  {
   "cell_type": "markdown",
   "id": "6dab05d7",
   "metadata": {},
   "source": [
    " Q6. Logical operators<br>\n",
    "Observe the output of below code<br>\n",
    "Cross check the output manually<br>\n",
    "print(True and True)<br>\n",
    "#----------------------------------------->Output is True<br>\n",
    "print(False and True)<br>\n",
    "#----------------------------------------->Output is False<br>\n",
    "print(True and False)<br>\n",
    "#----------------------------------------->Output is False<br>\n",
    "print(False and False)<br>\n",
    "#----------------------------------------->Output is False<br>\n",
    "print(True or True)<br>\n",
    "#----------------------------------------->Output is True<br>\n",
    "print(False or True)<br>\n",
    "#----------------------------------------->Output is True<br>\n",
    "print(True or False)<br>\n",
    "#----------------------------------------->Output is True<br>\n",
    "print(False or False)<br>\n",
    "#----------------------------------------->Output is False<br>\n",
    "print(not True)<br>\n",
    "#----------------------------------------->Output is False<br>\n",
    "print(not False)<br>\n",
    "#----------------------------------------->Output is True<br>"
   ]
  },
  {
   "cell_type": "code",
   "execution_count": 15,
   "id": "6ddf07a1",
   "metadata": {},
   "outputs": [
    {
     "name": "stdout",
     "output_type": "stream",
     "text": [
      "True\n",
      "False\n",
      "False\n",
      "False\n",
      "True\n",
      "True\n",
      "True\n",
      "False\n",
      "False\n",
      "True\n"
     ]
    }
   ],
   "source": [
    "print(True and True)\n",
    "\n",
    "print(False and True)\n",
    "\n",
    "print(True and False)\n",
    "\n",
    "print(False and False)\n",
    "\n",
    "print(True or True)\n",
    "\n",
    "print(False or True)\n",
    "\n",
    "print(True or False)\n",
    "\n",
    "print(False or False)\n",
    "\n",
    "print(not True)\n",
    "\n",
    "print(not False)\n"
   ]
  },
  {
   "cell_type": "markdown",
   "id": "3ed9d32c",
   "metadata": {},
   "source": [
    "Q7. Bitwise Operators<br>\n",
    "Do below operations on the values provided below:-<br>\n",
    " Bitwise and(&) --------------> True, True -------> Output is True<br><br>\n",
    " Bitwise or(|) --------------> True, False -------> Output is True<br>\n",
    " Bitwise(^) --------------> True, False -------> Output is True<br>\n",
    " Bitwise negation(~) ---------> True -------> Output is -2<br>\n",
    " Bitwise left shift ---------> True,2 -------> Output is 4<br>\n",
    " Bitwise right shift ---------> True,2 -------> Output is 0<br>\n",
    "Cross check the output manually<br>"
   ]
  },
  {
   "cell_type": "code",
   "execution_count": 17,
   "id": "bb44d5f7",
   "metadata": {},
   "outputs": [
    {
     "name": "stdout",
     "output_type": "stream",
     "text": [
      "True\n",
      "True\n",
      "True\n",
      "-2\n",
      "4\n",
      "0\n"
     ]
    }
   ],
   "source": [
    "print(True&True)\n",
    "print(True|False)\n",
    "print(True^False)\n",
    "print(~True)\n",
    "print(True<<2)\n",
    "print(True>>2)"
   ]
  },
  {
   "cell_type": "markdown",
   "id": "a1bd2278",
   "metadata": {},
   "source": [
    "Q8. What is the output of expression inside the print statement. Cross<br>\n",
    "check before running the program.<br>\n",
    "a = True<br>\n",
    "b = True<br>\n",
    "print(a is b) #True or False? #<br>\n",
    "print(a is not b) #True or False?<br>\n",
    "a = False<br>\n",
    "b = False<br>\n",
    "print(a is b) #True or False?<br>\n",
    "print(a is not b) #True or False?<br>"
   ]
  },
  {
   "cell_type": "code",
   "execution_count": 18,
   "id": "10777496",
   "metadata": {},
   "outputs": [
    {
     "name": "stdout",
     "output_type": "stream",
     "text": [
      "True\n",
      "False\n"
     ]
    }
   ],
   "source": [
    "a=True\n",
    "b=True\n",
    "print(a is b)\n",
    "print(a is not b)\n"
   ]
  },
  {
   "cell_type": "code",
   "execution_count": 19,
   "id": "ce6b5aa2",
   "metadata": {},
   "outputs": [
    {
     "name": "stdout",
     "output_type": "stream",
     "text": [
      "True\n",
      "False\n"
     ]
    }
   ],
   "source": [
    "a=False\n",
    "b=False\n",
    "print(a is b)\n",
    "print(a is not b)"
   ]
  },
  {
   "cell_type": "markdown",
   "id": "6c062c8d",
   "metadata": {},
   "source": [
    "Q9. Membership operation<br>\n",
    "in, not in are two membership operators and it returns boolean value<br>\n",
    "print(True in [10,10.20,10+20j,'Python', True])<br>\n",
    "print(False in (10,10.20,10+20j,'Python', False))<br>\n",
    "print(True in {1,2,3, True})<br>\n",
    "print(True in {True:100, False:200, True:300})<br>\n",
    "print(False in {True:100, False:200, True:300}<br>"
   ]
  },
  {
   "cell_type": "code",
   "execution_count": 28,
   "id": "3cdd144b",
   "metadata": {},
   "outputs": [
    {
     "name": "stdout",
     "output_type": "stream",
     "text": [
      "True\n",
      "True\n",
      "True\n",
      "True\n",
      "True\n"
     ]
    }
   ],
   "source": [
    "print(True in [10,10.20,10+20j,'Python', True])\n",
    "print(False in (10,10.20,10+20j,'Python', False))\n",
    "print(True in {1,2,3, True})\n",
    "print(True in {True:100, False:200, True:300})\n",
    "print(False in {True:100, False:200, True:300})"
   ]
  },
  {
   "cell_type": "markdown",
   "id": "20a19814",
   "metadata": {},
   "source": []
  }
 ],
 "metadata": {
  "kernelspec": {
   "display_name": "Python 3",
   "language": "python",
   "name": "python3"
  },
  "language_info": {
   "codemirror_mode": {
    "name": "ipython",
    "version": 3
   },
   "file_extension": ".py",
   "mimetype": "text/x-python",
   "name": "python",
   "nbconvert_exporter": "python",
   "pygments_lexer": "ipython3",
   "version": "3.8.8"
  }
 },
 "nbformat": 4,
 "nbformat_minor": 5
}
