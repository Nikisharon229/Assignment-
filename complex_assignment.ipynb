{
 "cells": [
  {
   "cell_type": "markdown",
   "id": "69a3eaa0",
   "metadata": {},
   "source": [
    "Q1. Declare a complex number and store it in a variable.\n",
    "Check the type and print the id of the same."
   ]
  },
  {
   "cell_type": "code",
   "execution_count": 2,
   "id": "1bf1fd9e",
   "metadata": {},
   "outputs": [
    {
     "name": "stdout",
     "output_type": "stream",
     "text": [
      "<class 'complex'>\n",
      "<class 'complex'>\n",
      "2101549052592\n",
      "2101549052208\n"
     ]
    }
   ],
   "source": [
    "a=2+4j\n",
    "b=3+7j\n",
    "print(type(a))\n",
    "print(type(b))\n",
    "print(id(a))\n",
    "print(id(b))"
   ]
  },
  {
   "cell_type": "markdown",
   "id": "b571af13",
   "metadata": {},
   "source": [
    "Q2. Arithmetic Operations on complex number<br>\n",
    "Take two different complex numbers.<br>\n",
    "Store them in two different variables.<br>\n",
    "Do below operations on them:-<br>\n",
    " Find sum of both numbers<br>\n",
    " Find difference between them<br>\n",
    " Find the product of both numbers.<br>\n",
    " Find value after dividing first num with second number<br>\n",
    " Find the result of the first num to the power of the second number.<br>"
   ]
  },
  {
   "cell_type": "code",
   "execution_count": 3,
   "id": "edb12c23",
   "metadata": {},
   "outputs": [
    {
     "name": "stdout",
     "output_type": "stream",
     "text": [
      "(6+13j)\n",
      "(2-3j)\n",
      "(-32+42j)\n",
      "(0.7058823529411765-0.3235294117647059j)\n",
      "(-0.018672100747799864-0.02548269776095784j)\n"
     ]
    }
   ],
   "source": [
    "a=4+5j\n",
    "b=2+8J\n",
    "print(a+b) # sum\n",
    "print(a-b) # difference\n",
    "print(a*b) # multiplication\n",
    "print(a/b) # division\n",
    "print(a**b) # power"
   ]
  },
  {
   "cell_type": "markdown",
   "id": "2a057c30",
   "metadata": {},
   "source": [
    "Q3. Comparison Operation not applicable between instance of complex values.<br>\n",
    "Object reusability concept is not applicable on complex number.<br>"
   ]
  },
  {
   "cell_type": "code",
   "execution_count": 5,
   "id": "c8371442",
   "metadata": {},
   "outputs": [
    {
     "ename": "TypeError",
     "evalue": "'>' not supported between instances of 'complex' and 'complex'",
     "output_type": "error",
     "traceback": [
      "\u001b[1;31m---------------------------------------------------------------------------\u001b[0m",
      "\u001b[1;31mTypeError\u001b[0m                                 Traceback (most recent call last)",
      "\u001b[1;32m<ipython-input-5-ee101c78dce9>\u001b[0m in \u001b[0;36m<module>\u001b[1;34m\u001b[0m\n\u001b[0;32m      4\u001b[0m \u001b[0ma\u001b[0m\u001b[1;33m=\u001b[0m\u001b[1;36m3\u001b[0m\u001b[1;33m+\u001b[0m\u001b[1;36m6j\u001b[0m\u001b[1;33m\u001b[0m\u001b[1;33m\u001b[0m\u001b[0m\n\u001b[0;32m      5\u001b[0m \u001b[0mb\u001b[0m\u001b[1;33m=\u001b[0m\u001b[1;36m6\u001b[0m\u001b[1;33m+\u001b[0m\u001b[1;36m4j\u001b[0m\u001b[1;33m\u001b[0m\u001b[1;33m\u001b[0m\u001b[0m\n\u001b[1;32m----> 6\u001b[1;33m \u001b[0mprint\u001b[0m\u001b[1;33m(\u001b[0m\u001b[0ma\u001b[0m\u001b[1;33m>\u001b[0m\u001b[0mb\u001b[0m\u001b[1;33m)\u001b[0m\u001b[1;33m\u001b[0m\u001b[1;33m\u001b[0m\u001b[0m\n\u001b[0m",
      "\u001b[1;31mTypeError\u001b[0m: '>' not supported between instances of 'complex' and 'complex'"
     ]
    }
   ],
   "source": [
    "# Comparison Operation not applicable between instance of complex values.\n",
    "\n",
    "# For example\n",
    "a=3+6j\n",
    "b=6+4j\n",
    "print(a>b)"
   ]
  },
  {
   "cell_type": "code",
   "execution_count": 6,
   "id": "5a0aa4b3",
   "metadata": {},
   "outputs": [
    {
     "name": "stdout",
     "output_type": "stream",
     "text": [
      "2101549052752\n",
      "2101549052688\n"
     ]
    }
   ],
   "source": [
    "# Object reusability concept is not applicable on complex number.\n",
    "#  for example\n",
    "a=4+3j\n",
    "b=1+2j\n",
    "print(id(a))\n",
    "print(id(b)) # id is not same"
   ]
  },
  {
   "cell_type": "markdown",
   "id": "eaf5edf3",
   "metadata": {},
   "source": [
    "Q4. Equality Operator<br>\n",
    "Take two different complex numbers.<br>\n",
    "Store them in two different variables.<br>\n",
    "Equate them using equality operators (==, !=)<br>\n",
    "Observe the output(return type should be boolean)<br>\n"
   ]
  },
  {
   "cell_type": "code",
   "execution_count": 8,
   "id": "d7b31368",
   "metadata": {},
   "outputs": [
    {
     "name": "stdout",
     "output_type": "stream",
     "text": [
      "False\n",
      "True\n"
     ]
    }
   ],
   "source": [
    "A=5+9j\n",
    "B=6+4j\n",
    "print(a==b)\n",
    "print(a!=b)\n"
   ]
  },
  {
   "cell_type": "markdown",
   "id": "7184d307",
   "metadata": {},
   "source": [
    "Q5. Logical operators<br>\n",
    "Observe the output of below code<br>\n",
    "Cross check the output manually<br>\n",
    "print(10+20j and 20+30j) #20+30j<br>\n",
    "#----------------------------------------->Output is 20+30j<br>\n",
    "print(0+0j and 20+30j) #0+0j<br>\n",
    "#----------------------------------------->Output is 0j<br>\n",
    "print(20+30j and 0+0j) #0+0j<br>\n",
    "#----------------------------------------->Output is 0j<br>\n",
    "print(0+0j and 0+0j) #0+0j<br>\n",
    "#----------------------------------------->Output is 0j<br>\n",
    "print(10+20j or 20+30j) #10+20j<br>\n",
    "#----------------------------------------->Output is 10+20j<br>\n",
    "print(0+0j or 20+30j) #20+30j<br>\n",
    "#----------------------------------------->Output is 20+30j<br>\n",
    "print(20+30j or 0+0j) #20+30j<br>\n",
    "#----------------------------------------->Output is 20+30j<br>\n",
    "print(0+0j or 0+0j) #0+0j<br>\n",
    "#----------------------------------------->Output is 0j<br>\n",
    "print(not 10+20j) #False<br>\n",
    "#----------------------------------------->Output is False<br>\n",
    "print(not 0+0j) #True<br>\n",
    "#----------------------------------------->Output is True<br>"
   ]
  },
  {
   "cell_type": "code",
   "execution_count": 9,
   "id": "552c48ec",
   "metadata": {},
   "outputs": [
    {
     "name": "stdout",
     "output_type": "stream",
     "text": [
      "(20+30j)\n",
      "0j\n",
      "0j\n",
      "0j\n",
      "(10+20j)\n",
      "(20+30j)\n",
      "(20+30j)\n",
      "0j\n",
      "False\n",
      "True\n"
     ]
    }
   ],
   "source": [
    "print(10+20j and 20+30j) \n",
    "\n",
    "print(0+0j and 20+30j) \n",
    "\n",
    "print(20+30j and 0+0j) \n",
    "\n",
    "print(0+0j and 0+0j)\n",
    "\n",
    "print(10+20j or 20+30j)\n",
    "\n",
    "print(0+0j or 20+30j) \n",
    "\n",
    "print(20+30j or 0+0j) \n",
    "\n",
    "print(0+0j or 0+0j)\n",
    "\n",
    "print(not 10+20j)\n",
    "\n",
    "print(not 0+0j) "
   ]
  },
  {
   "cell_type": "markdown",
   "id": "0cd7874c",
   "metadata": {},
   "source": [
    "Q6. What is the output of the expression inside the print statement.<br>\n",
    "Cross check before running the program..<br>\n",
    "a = 10+20j.<br>\n",
    "b = 10+20j.<br>\n",
    "print(a is b) #False #True or False?.<br>\n",
    "print(a is not b) #True #True or False?.<br>"
   ]
  },
  {
   "cell_type": "code",
   "execution_count": 10,
   "id": "98af7c1e",
   "metadata": {},
   "outputs": [
    {
     "name": "stdout",
     "output_type": "stream",
     "text": [
      "False\n",
      "True\n"
     ]
    }
   ],
   "source": [
    "a = 10+20j\n",
    "b = 10+20j\n",
    "print(a is b) \n",
    "print(a is not b) "
   ]
  },
  {
   "cell_type": "markdown",
   "id": "3a3f962e",
   "metadata": {},
   "source": [
    "Q7. Membership operation<br>\n",
    "in, not in are two membership operators and it returns boolean value<br>\n",
    "print('2.7' in 'Python2.7.8') <br>\n",
    "print(10+20j in [10,10.20,10+20j,'Python']) <br>\n",
    "print(10+20j in (10,10.20,10+20j,'Python')) <br>\n",
    "print(30+40j in {1,20.30,30+40j}) <br>\n",
    "print(30+40j in {1:100, 2.3:200, 30+40j:300}) <br>\n",
    "print(10 in range(20))<br> "
   ]
  },
  {
   "cell_type": "code",
   "execution_count": 11,
   "id": "b0d6fd7a",
   "metadata": {},
   "outputs": [
    {
     "name": "stdout",
     "output_type": "stream",
     "text": [
      "True\n",
      "True\n",
      "True\n",
      "True\n",
      "True\n",
      "True\n"
     ]
    }
   ],
   "source": [
    "print('2.7' in 'Python2.7.8')\n",
    "print(10+20j in [10,10.20,10+20j,'Python'])\n",
    "print(10+20j in (10,10.20,10+20j,'Python'))\n",
    "print(30+40j in {1,20.30,30+40j})\n",
    "print(30+40j in {1:100, 2.3:200, 30+40j:300})\n",
    "print(10 in range(20))"
   ]
  },
  {
   "cell_type": "code",
   "execution_count": 7,
   "id": "a57e9f27",
   "metadata": {},
   "outputs": [
    {
     "name": "stdout",
     "output_type": "stream",
     "text": [
      "Atog  htwymyntb biu tfrtuls o'eDth\n"
     ]
    }
   ],
   "source": [
    "my_str=\"Although 8 that way may not be obvious at first unless you're Dutch.\"\n",
    "print(my_str[0:len(my_str):2])"
   ]
  }
 ],
 "metadata": {
  "kernelspec": {
   "display_name": "Python 3",
   "language": "python",
   "name": "python3"
  },
  "language_info": {
   "codemirror_mode": {
    "name": "ipython",
    "version": 3
   },
   "file_extension": ".py",
   "mimetype": "text/x-python",
   "name": "python",
   "nbconvert_exporter": "python",
   "pygments_lexer": "ipython3",
   "version": "3.8.8"
  }
 },
 "nbformat": 4,
 "nbformat_minor": 5
}
